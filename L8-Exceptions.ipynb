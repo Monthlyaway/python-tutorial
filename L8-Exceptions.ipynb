{
 "cells": [
  {
   "cell_type": "code",
   "execution_count": 2,
   "metadata": {},
   "outputs": [
    {
     "name": "stdout",
     "output_type": "stream",
     "text": [
      "Oops!  That was no valid number.  Try again...\n",
      "Oops!  That was no valid number.  Try again...\n",
      "Oops!  That was no valid number.  Try again...\n",
      "Oops!  That was no valid number.  Try again...\n",
      "Oops!  That was no valid number.  Try again...\n",
      "Oops!  That was no valid number.  Try again...\n",
      "Oops!  That was no valid number.  Try again...\n",
      "Oops!  That was no valid number.  Try again...\n",
      "Oops!  That was no valid number.  Try again...\n",
      "Oops!  That was no valid number.  Try again...\n"
     ]
    }
   ],
   "source": [
    "while True:\n",
    "    try:\n",
    "        x = int(input(\"Please enter a number: \"))\n",
    "        break\n",
    "    except ValueError:\n",
    "        print(\"Oops!  That was no valid number.  Try again...\")"
   ]
  },
  {
   "cell_type": "markdown",
   "metadata": {},
   "source": [
    "A class in an `except` clause is compatible with an exception if it is the same class or a base class thereof (but not the other way around — an except clause listing a derived class is not compatible with a base class). For example, the following code will print B, C, D in that order:\n",
    "\n",
    "\n",
    "Note that if the *except clauses* were reversed (with `except B` first), it would have printed B, B, B — the first matching *except clause* is triggered. It checks the dymanic class: Is `C` a `B`? In this example, put base class at the end to trigger the right handler."
   ]
  },
  {
   "cell_type": "code",
   "execution_count": 6,
   "metadata": {},
   "outputs": [
    {
     "name": "stdout",
     "output_type": "stream",
     "text": [
      "B\n",
      "C\n",
      "D\n"
     ]
    }
   ],
   "source": [
    "class B(Exception):  # derived class\n",
    "    pass\n",
    "\n",
    "class C(B):\n",
    "    pass\n",
    "\n",
    "class D(C):\n",
    "    pass\n",
    "\n",
    "for cls in [B, C, D]:\n",
    "    try:\n",
    "        raise cls()\n",
    "    except D:\n",
    "        print(\"D\")\n",
    "    except C:\n",
    "        print(\"C\")\n",
    "    except B:\n",
    "        print(\"B\")\n",
    "    "
   ]
  },
  {
   "cell_type": "code",
   "execution_count": 7,
   "metadata": {},
   "outputs": [
    {
     "name": "stdout",
     "output_type": "stream",
     "text": [
      "<class 'Exception'>\n",
      "('spam', 'eggs')\n",
      "('spam', 'eggs')\n",
      "x = spam\n",
      "y = eggs\n"
     ]
    }
   ],
   "source": [
    "try:\n",
    "    raise Exception('spam', 'eggs')  # args list, Exception is builtin\n",
    "except Exception as inst:  # alias for Exception\n",
    "    print(type(inst))    # the exception type\n",
    "    print(inst.args)     # arguments stored in .args\n",
    "    print(inst)          # __str__ allows args to be printed directly,\n",
    "                         # but may be overridden in exception subclasses\n",
    "    x, y = inst.args     # unpack args\n",
    "    print('x =', x)\n",
    "    print('y =', y)"
   ]
  },
  {
   "cell_type": "markdown",
   "metadata": {},
   "source": [
    "One of its subclasses, [`Exception`](https://docs.python.org/3/library/exceptions.html#Exception), is the base class of all the non-fatal exceptions.\n",
    "\n",
    "The most common pattern for handling [`Exception`](https://docs.python.org/3/library/exceptions.html#Exception) is to print or log the exception and then re-raise it (allowing a caller to handle the exception as well):"
   ]
  },
  {
   "cell_type": "code",
   "execution_count": 13,
   "metadata": {},
   "outputs": [
    {
     "name": "stdout",
     "output_type": "stream",
     "text": [
      "Could not convert data to an integer.\n"
     ]
    }
   ],
   "source": [
    "import sys\n",
    "\n",
    "try:\n",
    "    f = open('myfile.txt')\n",
    "    s = f.readline()\n",
    "    i = int(s.strip())\n",
    "    print(f\"i = {i}\")\n",
    "except OSError:\n",
    "    print(\"OS error:\", OSError)\n",
    "except ValueError:\n",
    "    print(\"Could not convert data to an integer.\")\n",
    "except Exception as err:\n",
    "    print(f\"Unexpected {err=}, {type(err)=}\")\n",
    "    raise"
   ]
  },
  {
   "cell_type": "code",
   "execution_count": null,
   "metadata": {},
   "outputs": [],
   "source": [
    "for arg in sys.argv[1:]:\n",
    "    try:\n",
    "        f = open(arg, 'r')\n",
    "    except OSError:\n",
    "        print('cannot open', arg)\n",
    "    else:\n",
    "        print(arg, 'has', len(f.readlines()), 'lines')\n",
    "        f.close()"
   ]
  },
  {
   "cell_type": "markdown",
   "metadata": {},
   "source": [
    "The [`try`](https://docs.python.org/3/reference/compound_stmts.html#try) … [`except`](https://docs.python.org/3/reference/compound_stmts.html#except) statement has an optional *else clause*, which, when present, must follow all *except clauses*. It is useful for code that must be executed if the *try clause* does not raise an exception. For example:\n",
    "\n",
    "The use of the `else` clause is better than adding additional code to the [`try`](https://docs.python.org/3/reference/compound_stmts.html#try) clause because it avoids accidentally catching an exception that wasn’t raised by the code being protected by the `try` … `except` statement.\n",
    "\n",
    "Exception handlers do not handle only exceptions that occur immediately in the try clause, but also those that occur inside functions that are called (even indirectly) in the try clause. For example:"
   ]
  },
  {
   "cell_type": "code",
   "execution_count": 14,
   "metadata": {},
   "outputs": [
    {
     "name": "stdout",
     "output_type": "stream",
     "text": [
      "Handling run-time error: division by zero\n"
     ]
    }
   ],
   "source": [
    "def this_fails():\n",
    "    x = 1/0\n",
    "\n",
    "try:\n",
    "    this_fails()\n",
    "except ZeroDivisionError as err:\n",
    "    print('Handling run-time error:', err)"
   ]
  },
  {
   "cell_type": "code",
   "execution_count": 17,
   "metadata": {},
   "outputs": [
    {
     "name": "stdout",
     "output_type": "stream",
     "text": [
      "An exception flew by!\n"
     ]
    },
    {
     "ename": "NameError",
     "evalue": "HiThere",
     "output_type": "error",
     "traceback": [
      "\u001b[1;31m---------------------------------------------------------------------------\u001b[0m",
      "\u001b[1;31mNameError\u001b[0m                                 Traceback (most recent call last)",
      "Cell \u001b[1;32mIn[17], line 2\u001b[0m\n\u001b[0;32m      1\u001b[0m \u001b[39mtry\u001b[39;00m:\n\u001b[1;32m----> 2\u001b[0m     \u001b[39mraise\u001b[39;00m \u001b[39mNameError\u001b[39;00m(\u001b[39m'\u001b[39m\u001b[39mHiThere\u001b[39m\u001b[39m'\u001b[39m)\n\u001b[0;32m      3\u001b[0m \u001b[39mexcept\u001b[39;00m \u001b[39mNameError\u001b[39;00m:\n\u001b[0;32m      4\u001b[0m     \u001b[39mprint\u001b[39m(\u001b[39m'\u001b[39m\u001b[39mAn exception flew by!\u001b[39m\u001b[39m'\u001b[39m)\n",
      "\u001b[1;31mNameError\u001b[0m: HiThere"
     ]
    }
   ],
   "source": [
    "try:\n",
    "    raise NameError('HiThere')\n",
    "except NameError:\n",
    "    print('An exception flew by!')\n",
    "    raise  # re-raise, a shorthand"
   ]
  },
  {
   "cell_type": "code",
   "execution_count": 18,
   "metadata": {},
   "outputs": [],
   "source": [
    "def divide(x, y):\n",
    "    try:\n",
    "        result = x / y\n",
    "    except ZeroDivisionError:\n",
    "        print(\"division by zero!\")\n",
    "    else:\n",
    "        print(\"result is\", result)\n",
    "    finally:\n",
    "        print(\"executing finally clause\")\n"
   ]
  },
  {
   "cell_type": "code",
   "execution_count": 19,
   "metadata": {},
   "outputs": [
    {
     "name": "stdout",
     "output_type": "stream",
     "text": [
      "result is 2.0\n",
      "executing finally clause\n"
     ]
    }
   ],
   "source": [
    "divide(2, 1)"
   ]
  },
  {
   "cell_type": "code",
   "execution_count": 20,
   "metadata": {},
   "outputs": [
    {
     "name": "stdout",
     "output_type": "stream",
     "text": [
      "division by zero!\n",
      "executing finally clause\n"
     ]
    }
   ],
   "source": [
    "divide(2,0)"
   ]
  },
  {
   "cell_type": "code",
   "execution_count": 22,
   "metadata": {},
   "outputs": [
    {
     "name": "stdout",
     "output_type": "stream",
     "text": [
      "executing finally clause\n"
     ]
    },
    {
     "ename": "TypeError",
     "evalue": "unsupported operand type(s) for /: 'str' and 'str'",
     "output_type": "error",
     "traceback": [
      "\u001b[1;31m---------------------------------------------------------------------------\u001b[0m",
      "\u001b[1;31mTypeError\u001b[0m                                 Traceback (most recent call last)",
      "Cell \u001b[1;32mIn[22], line 1\u001b[0m\n\u001b[1;32m----> 1\u001b[0m divide(\u001b[39m\"\u001b[39m\u001b[39m2\u001b[39m\u001b[39m\"\u001b[39m, \u001b[39m\"\u001b[39m\u001b[39m1\u001b[39m\u001b[39m\"\u001b[39m)\n",
      "Cell \u001b[1;32mIn[18], line 3\u001b[0m, in \u001b[0;36mdivide\u001b[1;34m(x, y)\u001b[0m\n\u001b[0;32m      1\u001b[0m \u001b[39mdef\u001b[39;00m \u001b[39mdivide\u001b[39m(x, y):\n\u001b[0;32m      2\u001b[0m     \u001b[39mtry\u001b[39;00m:\n\u001b[1;32m----> 3\u001b[0m         result \u001b[39m=\u001b[39m x \u001b[39m/\u001b[39m y\n\u001b[0;32m      4\u001b[0m     \u001b[39mexcept\u001b[39;00m \u001b[39mZeroDivisionError\u001b[39;00m:\n\u001b[0;32m      5\u001b[0m         \u001b[39mprint\u001b[39m(\u001b[39m\"\u001b[39m\u001b[39mdivision by zero!\u001b[39m\u001b[39m\"\u001b[39m)\n",
      "\u001b[1;31mTypeError\u001b[0m: unsupported operand type(s) for /: 'str' and 'str'"
     ]
    }
   ],
   "source": [
    "divide(\"2\", \"1\")  # exc is re-raised"
   ]
  },
  {
   "cell_type": "markdown",
   "metadata": {},
   "source": [
    "In real world applications, the [`finally`](https://docs.python.org/3/reference/compound_stmts.html#finally) clause is useful for releasing external resources (such as files or network connections), regardless of whether the use of the resource was successful."
   ]
  },
  {
   "cell_type": "code",
   "execution_count": 23,
   "metadata": {},
   "outputs": [
    {
     "name": "stdout",
     "output_type": "stream",
     "text": [
      "   Aha, you find me! Smart boy!   \n",
      "   26\n",
      "   Aha, you find me! Smart boy!   "
     ]
    }
   ],
   "source": [
    "with open(\"myfile.txt\") as f:\n",
    "    for line in f:\n",
    "        print(line, end=\"\")"
   ]
  },
  {
   "cell_type": "markdown",
   "metadata": {},
   "source": [
    "There are situations where it is necessary to report several exceptions that have occurred. This is often the case in concurrency frameworks, when several tasks may have failed in parallel, but there are also other use cases where it is desirable to continue execution and collect multiple errors rather than raise the first exception.\n",
    "\n",
    "The builtin [`ExceptionGroup`](https://docs.python.org/3/library/exceptions.html#ExceptionGroup) wraps a list of exception instances so that they can be raised together. It is an exception itself, so it can be caught like any other exception."
   ]
  },
  {
   "cell_type": "code",
   "execution_count": 1,
   "metadata": {},
   "outputs": [
    {
     "ename": "ExceptionGroup",
     "evalue": "there were problems (2 sub-exceptions)",
     "output_type": "error",
     "traceback": [
      "\u001b[1;31m---------------------------------------------------------------------------\u001b[0m",
      "\u001b[1;31mExceptionGroup\u001b[0m                            Traceback (most recent call last)",
      "Cell \u001b[1;32mIn[1], line 5\u001b[0m\n\u001b[0;32m      2\u001b[0m     excs \u001b[39m=\u001b[39m [\u001b[39mOSError\u001b[39;00m(\u001b[39m'\u001b[39m\u001b[39merror 1\u001b[39m\u001b[39m'\u001b[39m), \u001b[39mSystemError\u001b[39;00m(\u001b[39m'\u001b[39m\u001b[39merror 2\u001b[39m\u001b[39m'\u001b[39m)]\n\u001b[0;32m      3\u001b[0m     \u001b[39mraise\u001b[39;00m ExceptionGroup(\u001b[39m'\u001b[39m\u001b[39mthere were problems\u001b[39m\u001b[39m'\u001b[39m, excs)\n\u001b[1;32m----> 5\u001b[0m f()\n",
      "Cell \u001b[1;32mIn[1], line 3\u001b[0m, in \u001b[0;36mf\u001b[1;34m()\u001b[0m\n\u001b[0;32m      1\u001b[0m \u001b[39mdef\u001b[39;00m \u001b[39mf\u001b[39m():\n\u001b[0;32m      2\u001b[0m     excs \u001b[39m=\u001b[39m [\u001b[39mOSError\u001b[39;00m(\u001b[39m'\u001b[39m\u001b[39merror 1\u001b[39m\u001b[39m'\u001b[39m), \u001b[39mSystemError\u001b[39;00m(\u001b[39m'\u001b[39m\u001b[39merror 2\u001b[39m\u001b[39m'\u001b[39m)]\n\u001b[1;32m----> 3\u001b[0m     \u001b[39mraise\u001b[39;00m ExceptionGroup(\u001b[39m'\u001b[39m\u001b[39mthere were problems\u001b[39m\u001b[39m'\u001b[39m, excs)\n",
      "\u001b[1;31mExceptionGroup\u001b[0m: there were problems (2 sub-exceptions)"
     ]
    }
   ],
   "source": [
    "def f():\n",
    "    excs = [OSError('error 1'), SystemError('error 2')]\n",
    "    raise ExceptionGroup('there were problems', excs)\n",
    "\n",
    "f()"
   ]
  },
  {
   "cell_type": "markdown",
   "metadata": {},
   "source": [
    "By using `except*` instead of `except`, we can selectively handle only the exceptions in the group that match a certain type. In the following example, which shows a nested exception group, each `except*` clause extracts from the group exceptions of a certain type while letting all other exceptions propagate to other clauses and eventually to be reraised."
   ]
  },
  {
   "cell_type": "code",
   "execution_count": 1,
   "metadata": {},
   "outputs": [
    {
     "name": "stdout",
     "output_type": "stream",
     "text": [
      "There were OSErrors\n",
      "There were SystemErrors\n"
     ]
    },
    {
     "ename": "ExceptionGroup",
     "evalue": "group1 (1 sub-exception)",
     "output_type": "error",
     "traceback": [
      "\u001b[1;31m---------------------------------------------------------------------------\u001b[0m",
      "\u001b[1;31mExceptionGroup\u001b[0m                            Traceback (most recent call last)",
      "Cell \u001b[1;32mIn[1], line 18\u001b[0m\n\u001b[0;32m      2\u001b[0m     \u001b[39mraise\u001b[39;00m ExceptionGroup(\n\u001b[0;32m      3\u001b[0m         \u001b[39m\"\u001b[39m\u001b[39mgroup1\u001b[39m\u001b[39m\"\u001b[39m,\n\u001b[0;32m      4\u001b[0m         [\n\u001b[1;32m   (...)\u001b[0m\n\u001b[0;32m     14\u001b[0m         ]\n\u001b[0;32m     15\u001b[0m     )\n\u001b[0;32m     17\u001b[0m \u001b[39mtry\u001b[39;00m:\n\u001b[1;32m---> 18\u001b[0m     f()\n\u001b[0;32m     19\u001b[0m \u001b[39mexcept\u001b[39;00m\u001b[39m*\u001b[39m \u001b[39mOSError\u001b[39;00m \u001b[39mas\u001b[39;00m e:\n\u001b[0;32m     20\u001b[0m     \u001b[39mprint\u001b[39m(\u001b[39m\"\u001b[39m\u001b[39mThere were OSErrors\u001b[39m\u001b[39m\"\u001b[39m)\n",
      "Cell \u001b[1;32mIn[1], line 2\u001b[0m, in \u001b[0;36mf\u001b[1;34m()\u001b[0m\n\u001b[0;32m      1\u001b[0m \u001b[39mdef\u001b[39;00m \u001b[39mf\u001b[39m():\n\u001b[1;32m----> 2\u001b[0m     \u001b[39mraise\u001b[39;00m ExceptionGroup(\n\u001b[0;32m      3\u001b[0m         \u001b[39m\"\u001b[39m\u001b[39mgroup1\u001b[39m\u001b[39m\"\u001b[39m,\n\u001b[0;32m      4\u001b[0m         [\n\u001b[0;32m      5\u001b[0m             \u001b[39mOSError\u001b[39;00m(\u001b[39m1\u001b[39m),\n\u001b[0;32m      6\u001b[0m             \u001b[39mSystemError\u001b[39;00m(\u001b[39m2\u001b[39m),\n\u001b[0;32m      7\u001b[0m             ExceptionGroup(\n\u001b[0;32m      8\u001b[0m                 \u001b[39m\"\u001b[39m\u001b[39mgroup2\u001b[39m\u001b[39m\"\u001b[39m,\n\u001b[0;32m      9\u001b[0m                 [\n\u001b[0;32m     10\u001b[0m                     \u001b[39mOSError\u001b[39;00m(\u001b[39m3\u001b[39m),\n\u001b[0;32m     11\u001b[0m                     \u001b[39mRecursionError\u001b[39;00m(\u001b[39m4\u001b[39m)\n\u001b[0;32m     12\u001b[0m                 ]\n\u001b[0;32m     13\u001b[0m             )\n\u001b[0;32m     14\u001b[0m         ]\n\u001b[0;32m     15\u001b[0m     )\n",
      "\u001b[1;31mExceptionGroup\u001b[0m: group1 (1 sub-exception)"
     ]
    }
   ],
   "source": [
    "def f():\n",
    "    raise ExceptionGroup(\n",
    "        \"group1\",\n",
    "        [\n",
    "            OSError(1),\n",
    "            SystemError(2),\n",
    "            ExceptionGroup(\n",
    "                \"group2\",\n",
    "                [\n",
    "                    OSError(3),\n",
    "                    RecursionError(4)\n",
    "                ]\n",
    "            )\n",
    "        ]\n",
    "    )\n",
    "\n",
    "try:\n",
    "    f()\n",
    "except* OSError as e:\n",
    "    print(\"There were OSErrors\")\n",
    "except* SystemError as e:\n",
    "    print(\"There were SystemErrors\")"
   ]
  },
  {
   "cell_type": "code",
   "execution_count": 11,
   "metadata": {},
   "outputs": [
    {
     "ename": "TypeError",
     "evalue": "bad type",
     "output_type": "error",
     "traceback": [
      "\u001b[1;31m---------------------------------------------------------------------------\u001b[0m",
      "\u001b[1;31mTypeError\u001b[0m                                 Traceback (most recent call last)",
      "Cell \u001b[1;32mIn[11], line 2\u001b[0m\n\u001b[0;32m      1\u001b[0m \u001b[39mtry\u001b[39;00m:\n\u001b[1;32m----> 2\u001b[0m     \u001b[39mraise\u001b[39;00m \u001b[39mTypeError\u001b[39;00m(\u001b[39m'\u001b[39m\u001b[39mbad type\u001b[39m\u001b[39m'\u001b[39m)\n\u001b[0;32m      3\u001b[0m \u001b[39mexcept\u001b[39;00m \u001b[39mTypeError\u001b[39;00m \u001b[39mas\u001b[39;00m e:\n\u001b[0;32m      4\u001b[0m     e\u001b[39m.\u001b[39madd_note(\u001b[39m'\u001b[39m\u001b[39mAdd some information\u001b[39m\u001b[39m'\u001b[39m)\n",
      "\u001b[1;31mTypeError\u001b[0m: bad type"
     ]
    }
   ],
   "source": [
    "try:\n",
    "    raise TypeError('bad type')\n",
    "except TypeError as e:\n",
    "    e.add_note('Add some information')\n",
    "    e.add_note('Add some more information')\n",
    "    raise\n",
    "    "
   ]
  },
  {
   "cell_type": "code",
   "execution_count": 13,
   "metadata": {},
   "outputs": [
    {
     "ename": "ExceptionGroup",
     "evalue": "We have some problems (3 sub-exceptions)",
     "output_type": "error",
     "traceback": [
      "\u001b[1;31m---------------------------------------------------------------------------\u001b[0m",
      "\u001b[1;31mExceptionGroup\u001b[0m                            Traceback (most recent call last)",
      "Cell \u001b[1;32mIn[13], line 12\u001b[0m\n\u001b[0;32m      9\u001b[0m         e\u001b[39m.\u001b[39madd_note(\u001b[39mf\u001b[39m\u001b[39m'\u001b[39m\u001b[39mHappened in Iteration \u001b[39m\u001b[39m{\u001b[39;00mi\u001b[39m+\u001b[39m\u001b[39m1\u001b[39m\u001b[39m}\u001b[39;00m\u001b[39m'\u001b[39m)\n\u001b[0;32m     10\u001b[0m         excs\u001b[39m.\u001b[39mappend(e)\n\u001b[1;32m---> 12\u001b[0m \u001b[39mraise\u001b[39;00m ExceptionGroup(\u001b[39m'\u001b[39m\u001b[39mWe have some problems\u001b[39m\u001b[39m'\u001b[39m, excs)\n",
      "\u001b[1;31mExceptionGroup\u001b[0m: We have some problems (3 sub-exceptions)"
     ]
    }
   ],
   "source": [
    "def f():\n",
    "    raise OSError('operation failed')\n",
    "\n",
    "excs = []\n",
    "for i in range(3):\n",
    "    try:\n",
    "        f()\n",
    "    except Exception as e:\n",
    "        e.add_note(f'Happened in Iteration {i+1}')\n",
    "        excs.append(e)\n",
    "\n",
    "raise ExceptionGroup('We have some problems', excs)\n",
    "\n",
    "# The complete result is shown in console, not in notebook."
   ]
  },
  {
   "cell_type": "code",
   "execution_count": null,
   "metadata": {},
   "outputs": [],
   "source": []
  },
  {
   "cell_type": "code",
   "execution_count": null,
   "metadata": {},
   "outputs": [],
   "source": []
  },
  {
   "cell_type": "code",
   "execution_count": null,
   "metadata": {},
   "outputs": [],
   "source": []
  },
  {
   "cell_type": "code",
   "execution_count": null,
   "metadata": {},
   "outputs": [],
   "source": []
  },
  {
   "cell_type": "code",
   "execution_count": null,
   "metadata": {},
   "outputs": [],
   "source": []
  },
  {
   "cell_type": "code",
   "execution_count": null,
   "metadata": {},
   "outputs": [],
   "source": []
  }
 ],
 "metadata": {
  "kernelspec": {
   "display_name": "base",
   "language": "python",
   "name": "python3"
  },
  "language_info": {
   "codemirror_mode": {
    "name": "ipython",
    "version": 3
   },
   "file_extension": ".py",
   "mimetype": "text/x-python",
   "name": "python",
   "nbconvert_exporter": "python",
   "pygments_lexer": "ipython3",
   "version": "3.11.3"
  },
  "orig_nbformat": 4
 },
 "nbformat": 4,
 "nbformat_minor": 2
}
