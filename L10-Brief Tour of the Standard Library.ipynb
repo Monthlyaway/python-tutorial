{
 "cells": [
  {
   "cell_type": "code",
   "execution_count": 1,
   "metadata": {},
   "outputs": [],
   "source": [
    "import os"
   ]
  },
  {
   "cell_type": "code",
   "execution_count": 2,
   "metadata": {},
   "outputs": [
    {
     "data": {
      "text/plain": [
       "'f:\\\\Study\\\\Code\\\\Monthlyaway\\\\python-tutorial'"
      ]
     },
     "execution_count": 2,
     "metadata": {},
     "output_type": "execute_result"
    }
   ],
   "source": [
    "os.getcwd()      # Return the current working directory"
   ]
  },
  {
   "cell_type": "code",
   "execution_count": 4,
   "metadata": {},
   "outputs": [
    {
     "data": {
      "text/plain": [
       "0"
      ]
     },
     "execution_count": 4,
     "metadata": {},
     "output_type": "execute_result"
    }
   ],
   "source": [
    "os.system(\"mkdir system\")"
   ]
  },
  {
   "cell_type": "code",
   "execution_count": 5,
   "metadata": {},
   "outputs": [],
   "source": [
    "os.chdir(\"./system/\")"
   ]
  },
  {
   "cell_type": "markdown",
   "metadata": {},
   "source": [
    "In Python, a namespace is a container that holds a collection of identifiers (such as variable names, function names, class names, etc.) and their corresponding objects (variables, functions, classes, etc.). Namespaces are used to organize and manage the names used in a Python program to avoid naming conflicts and provide a way to uniquely identify objects.\n",
    "\n",
    "Now, let's break down your statement:\n",
    "\n",
    "\"Be sure to use the `import os` style instead of `from os import *`. This will keep `os.open()` from shadowing the built-in `open()` function which operates much differently.\"\n",
    "\n",
    "1. `import os` Style:\n",
    "   - When you use `import os`, you are importing the entire `os` module into your namespace.\n",
    "   - This means that all the names defined in the `os` module are accessible through the `os` namespace, but you need to prefix them with `os.` to use them.\n",
    "2. `from os import *` Style:\n",
    "   - When you use `from os import *`, you are importing all the names defined in the `os` module into your current namespace directly.\n",
    "   - This includes all the functions, classes, and variables defined in the `os` module, and you can use them without prefixing with `os.`.\n",
    "\n",
    "Now, let's discuss the issue with `os.open()` and `open()`:\n",
    "\n",
    "- The `open()` function is a built-in Python function used to open files for reading or writing.\n",
    "- The `os` module also contains a function called `open()`, which is used for a different purpose. It is used to open files with low-level file descriptor handling.\n"
   ]
  },
  {
   "cell_type": "code",
   "execution_count": 10,
   "metadata": {},
   "outputs": [
    {
     "data": {
      "text/plain": [
       "'myfile.txt.bak'"
      ]
     },
     "execution_count": 10,
     "metadata": {},
     "output_type": "execute_result"
    }
   ],
   "source": [
    "import shutil\n",
    "\n",
    "os.chdir(\"../\")\n",
    "# Copy the file 'data.db' to 'archive.db'\n",
    "shutil.copyfile('myfile.txt', 'myfile.txt.bak')\n",
    "\n",
    "# The shutil.copyfile() function is used to create a copy of the file 'data.db' \n",
    "# with the name 'archive.db' in the current directory. This effectively backs up \n",
    "# the original file 'data.db' as 'archive.db' without any changes to its contents."
   ]
  },
  {
   "cell_type": "code",
   "execution_count": 11,
   "metadata": {},
   "outputs": [
    {
     "data": {
      "text/plain": [
       "'.\\\\system.txt'"
      ]
     },
     "execution_count": 11,
     "metadata": {},
     "output_type": "execute_result"
    }
   ],
   "source": [
    "# Move the 'executables' directory from '/build' to 'installdir'\n",
    "shutil.move('./system/system.txt', '.')\n",
    "\n",
    "# The shutil.move() function is used to relocate the 'executables' directory\n",
    "# from the '/build' directory to the 'installdir'. This effectively moves the\n",
    "# directory and its contents to a new location, updating the file system\n",
    "# structure accordingly."
   ]
  },
  {
   "cell_type": "code",
   "execution_count": 12,
   "metadata": {},
   "outputs": [
    {
     "data": {
      "text/plain": [
       "'./subsystem'"
      ]
     },
     "execution_count": 12,
     "metadata": {},
     "output_type": "execute_result"
    }
   ],
   "source": [
    "shutil.move(\"./system/subsystem/\", \"./\")"
   ]
  },
  {
   "cell_type": "code",
   "execution_count": 15,
   "metadata": {},
   "outputs": [
    {
     "data": {
      "text/plain": [
       "['L10-Brief Tour of the Standard Library.ipynb',\n",
       " 'L4-More Control Flow Tools.ipynb',\n",
       " 'L5-Data Structure.ipynb',\n",
       " 'L8-Exceptions.ipynb',\n",
       " 'L9-Classes.ipynb']"
      ]
     },
     "execution_count": 15,
     "metadata": {},
     "output_type": "execute_result"
    }
   ],
   "source": [
    "import glob\n",
    "glob.glob(\"*.ipynb\")"
   ]
  },
  {
   "cell_type": "code",
   "execution_count": 31,
   "metadata": {},
   "outputs": [
    {
     "data": {
      "text/plain": [
       "'banana'"
      ]
     },
     "execution_count": 31,
     "metadata": {},
     "output_type": "execute_result"
    }
   ],
   "source": [
    "import random\n",
    "random.choice([\"apple\", \"banana\", \"candy\"])"
   ]
  },
  {
   "cell_type": "code",
   "execution_count": 42,
   "metadata": {},
   "outputs": [
    {
     "data": {
      "text/plain": [
       "[37, 78, 15, 40, 41, 26, 34, 47, 58, 14]"
      ]
     },
     "execution_count": 42,
     "metadata": {},
     "output_type": "execute_result"
    }
   ],
   "source": [
    "random.sample(range(100), 10)"
   ]
  },
  {
   "cell_type": "code",
   "execution_count": 55,
   "metadata": {},
   "outputs": [
    {
     "data": {
      "text/plain": [
       "1"
      ]
     },
     "execution_count": 55,
     "metadata": {},
     "output_type": "execute_result"
    }
   ],
   "source": [
    "random.randint(1, 6)"
   ]
  },
  {
   "cell_type": "code",
   "execution_count": 56,
   "metadata": {},
   "outputs": [
    {
     "data": {
      "text/plain": [
       "1.6071428571428572"
      ]
     },
     "execution_count": 56,
     "metadata": {},
     "output_type": "execute_result"
    }
   ],
   "source": [
    "import statistics\n",
    "data = [2.75, 1.75, 1.25, 0.25, 0.5, 1.25, 3.5]\n",
    "statistics.mean(data)"
   ]
  },
  {
   "cell_type": "code",
   "execution_count": 57,
   "metadata": {},
   "outputs": [
    {
     "data": {
      "text/plain": [
       "1.25"
      ]
     },
     "execution_count": 57,
     "metadata": {},
     "output_type": "execute_result"
    }
   ],
   "source": [
    "statistics.median(data)"
   ]
  },
  {
   "cell_type": "code",
   "execution_count": 58,
   "metadata": {},
   "outputs": [
    {
     "data": {
      "text/plain": [
       "1.3720238095238095"
      ]
     },
     "execution_count": 58,
     "metadata": {},
     "output_type": "execute_result"
    }
   ],
   "source": [
    "statistics.variance(data)"
   ]
  },
  {
   "cell_type": "markdown",
   "metadata": {},
   "source": [
    "The SciPy project <[https://scipy.org](https://scipy.org/)> has many other modules for numerical computations."
   ]
  },
  {
   "cell_type": "code",
   "execution_count": 62,
   "metadata": {},
   "outputs": [
    {
     "name": "stdout",
     "output_type": "stream",
     "text": [
      "datetime: 2023-09-10T03:35:50.464081+00:00\n"
     ]
    }
   ],
   "source": [
    "from urllib.request import urlopen\n",
    "with urlopen('http://worldtimeapi.org/api/timezone/etc/UTC.txt') as response:\n",
    "    for line in response:\n",
    "        line = line.decode()             # Convert bytes to a str\n",
    "        if line.startswith('datetime'):\n",
    "            print(line.rstrip())         # Remove trailing newline"
   ]
  },
  {
   "cell_type": "code",
   "execution_count": 70,
   "metadata": {},
   "outputs": [
    {
     "data": {
      "text/plain": [
       "datetime.date(2023, 9, 10)"
      ]
     },
     "execution_count": 70,
     "metadata": {},
     "output_type": "execute_result"
    }
   ],
   "source": [
    "from datetime import date  # date is a class    \n",
    "now = date.today()\n",
    "now"
   ]
  },
  {
   "cell_type": "markdown",
   "metadata": {},
   "source": [
    "Define a format string for formatting the date and time using the `strftime` method. The format string consists of various format codes that specify how different components of the date and time should be displayed. Here's an explanation of each part of the format string:\n",
    "\n",
    "- `%m`: Month as a zero-padded decimal number (01, 02, ..., 12).\n",
    "- `-`: A hyphen character.\n",
    "- `%d`: Day of the month as a zero-padded decimal number (01, 02, ..., 31).\n",
    "- `%y`: Year without century as a zero-padded decimal number (00, 01, ..., 99).\n",
    "- `.`: A period character.\n",
    "- `%d`: Day of the month as a zero-padded decimal number (01, 02, ..., 31) (again).\n",
    "- `%b`: Abbreviated month name (Jan, Feb, ..., Dec).\n",
    "- `%Y`: Year with century as a decimal number (0001, 0002, ..., 2013, 2014, ..., 9998, 9999).\n",
    "- `is a`: The string \"is a\".\n",
    "- `%A`: Full weekday name (Sunday, Monday, ..., Saturday).\n",
    "- `on the`: The string \"on the\".\n",
    "- `%d`: Day of the month as a zero-padded decimal number (01, 02, ..., 31) (once more).\n",
    "- `%B`: Full month name (January, February, ..., December).\n"
   ]
  },
  {
   "cell_type": "code",
   "execution_count": 64,
   "metadata": {},
   "outputs": [
    {
     "data": {
      "text/plain": [
       "'09-10-23. 10 Sep 2023 is a Sunday on the 10 day of September.'"
      ]
     },
     "execution_count": 64,
     "metadata": {},
     "output_type": "execute_result"
    }
   ],
   "source": [
    "now.strftime(\"%m-%d-%y. %d %b %Y is a %A on the %d day of %B.\")"
   ]
  },
  {
   "cell_type": "code",
   "execution_count": 78,
   "metadata": {},
   "outputs": [
    {
     "data": {
      "text/plain": [
       "41"
      ]
     },
     "execution_count": 78,
     "metadata": {},
     "output_type": "execute_result"
    }
   ],
   "source": [
    "import zlib\n",
    "s = b'witch which has which witches wrist watch'\n",
    "len(s)"
   ]
  },
  {
   "cell_type": "code",
   "execution_count": 79,
   "metadata": {},
   "outputs": [
    {
     "data": {
      "text/plain": [
       "b'witch which has which witches wrist watch'"
      ]
     },
     "execution_count": 79,
     "metadata": {},
     "output_type": "execute_result"
    }
   ],
   "source": [
    "s"
   ]
  },
  {
   "cell_type": "code",
   "execution_count": 82,
   "metadata": {},
   "outputs": [
    {
     "data": {
      "text/plain": [
       "37"
      ]
     },
     "execution_count": 82,
     "metadata": {},
     "output_type": "execute_result"
    }
   ],
   "source": [
    "t = zlib.compress(s)  # a binary type object is required, not str\n",
    "len(t)"
   ]
  },
  {
   "cell_type": "code",
   "execution_count": 83,
   "metadata": {},
   "outputs": [
    {
     "data": {
      "text/plain": [
       "b'x\\x9c+\\xcf,I\\xceP(\\xcf\\xc8\\x04\\x92\\x19\\x89\\xc5PV9H4\\x15\\xc8+\\xca,.Q(O\\x04\\xf2\\x00D?\\x0f\\x89'"
      ]
     },
     "execution_count": 83,
     "metadata": {},
     "output_type": "execute_result"
    }
   ],
   "source": [
    "t"
   ]
  },
  {
   "cell_type": "code",
   "execution_count": 87,
   "metadata": {},
   "outputs": [
    {
     "data": {
      "text/plain": [
       "'witch which has which witches wrist watch'"
      ]
     },
     "execution_count": 87,
     "metadata": {},
     "output_type": "execute_result"
    }
   ],
   "source": [
    "zlib.decompress(t).decode()"
   ]
  },
  {
   "cell_type": "code",
   "execution_count": 1,
   "metadata": {},
   "outputs": [
    {
     "data": {
      "text/plain": [
       "0.017840599999544793"
      ]
     },
     "execution_count": 1,
     "metadata": {},
     "output_type": "execute_result"
    }
   ],
   "source": [
    "from timeit import Timer\n",
    "Timer('t=a; a=b; b=t', 'a=1; b=2').timeit()"
   ]
  },
  {
   "cell_type": "code",
   "execution_count": 3,
   "metadata": {},
   "outputs": [
    {
     "data": {
      "text/plain": [
       "0.014870799999698647"
      ]
     },
     "execution_count": 3,
     "metadata": {},
     "output_type": "execute_result"
    }
   ],
   "source": [
    "Timer('a,b = b,a', 'a=1; b=2').timeit()"
   ]
  },
  {
   "cell_type": "markdown",
   "metadata": {},
   "source": [
    "Test construction is as simple as cutting-and-pasting a typical call along with its results into the docstring. "
   ]
  },
  {
   "cell_type": "code",
   "execution_count": 7,
   "metadata": {},
   "outputs": [
    {
     "data": {
      "text/plain": [
       "TestResults(failed=0, attempted=1)"
      ]
     },
     "execution_count": 7,
     "metadata": {},
     "output_type": "execute_result"
    }
   ],
   "source": [
    "def average(values):\n",
    "    \"\"\"Computes the arithmetic mean of a list of numbers.\n",
    "\n",
    "    >>> print(average([20, 30, 70]))\n",
    "    40.0\n",
    "    \"\"\"\n",
    "    return sum(values) / len(values)\n",
    "\n",
    "import doctest\n",
    "doctest.testmod()   # automatically validate the embedded tests"
   ]
  },
  {
   "cell_type": "code",
   "execution_count": 8,
   "metadata": {},
   "outputs": [
    {
     "name": "stderr",
     "output_type": "stream",
     "text": [
      "usage: ipykernel_launcher.py [-h] [-v] [-q] [--locals] [-f] [-c] [-b]\n",
      "                             [-k TESTNAMEPATTERNS]\n",
      "                             [tests ...]\n",
      "ipykernel_launcher.py: error: argument -f/--failfast: ignored explicit argument 'c:\\\\Users\\\\24075\\\\AppData\\\\Roaming\\\\jupyter\\\\runtime\\\\kernel-v2-24180xDpjCORZs8wi.json'\n"
     ]
    },
    {
     "ename": "AttributeError",
     "evalue": "'tuple' object has no attribute 'tb_frame'",
     "output_type": "error",
     "traceback": [
      "\u001b[1;31m---------------------------------------------------------------------------\u001b[0m",
      "\u001b[1;31mArgumentError\u001b[0m                             Traceback (most recent call last)",
      "File \u001b[1;32md:\\Software\\anaconda3\\Lib\\argparse.py:1902\u001b[0m, in \u001b[0;36mArgumentParser.parse_known_args\u001b[1;34m(self, args, namespace)\u001b[0m\n\u001b[0;32m   1901\u001b[0m \u001b[39mtry\u001b[39;00m:\n\u001b[1;32m-> 1902\u001b[0m     namespace, args \u001b[39m=\u001b[39m \u001b[39mself\u001b[39m\u001b[39m.\u001b[39m_parse_known_args(args, namespace)\n\u001b[0;32m   1903\u001b[0m \u001b[39mexcept\u001b[39;00m ArgumentError \u001b[39mas\u001b[39;00m err:\n",
      "File \u001b[1;32md:\\Software\\anaconda3\\Lib\\argparse.py:2114\u001b[0m, in \u001b[0;36mArgumentParser._parse_known_args\u001b[1;34m(self, arg_strings, namespace)\u001b[0m\n\u001b[0;32m   2113\u001b[0m     \u001b[39m# consume the next optional and any arguments for it\u001b[39;00m\n\u001b[1;32m-> 2114\u001b[0m     start_index \u001b[39m=\u001b[39m consume_optional(start_index)\n\u001b[0;32m   2116\u001b[0m \u001b[39m# consume any positionals following the last Optional\u001b[39;00m\n",
      "File \u001b[1;32md:\\Software\\anaconda3\\Lib\\argparse.py:2036\u001b[0m, in \u001b[0;36mArgumentParser._parse_known_args.<locals>.consume_optional\u001b[1;34m(start_index)\u001b[0m\n\u001b[0;32m   2035\u001b[0m         msg \u001b[39m=\u001b[39m _(\u001b[39m'\u001b[39m\u001b[39mignored explicit argument \u001b[39m\u001b[39m%r\u001b[39;00m\u001b[39m'\u001b[39m)\n\u001b[1;32m-> 2036\u001b[0m         \u001b[39mraise\u001b[39;00m ArgumentError(action, msg \u001b[39m%\u001b[39m explicit_arg)\n\u001b[0;32m   2038\u001b[0m \u001b[39m# if there is no explicit argument, try to match the\u001b[39;00m\n\u001b[0;32m   2039\u001b[0m \u001b[39m# optional's string arguments with the following strings\u001b[39;00m\n\u001b[0;32m   2040\u001b[0m \u001b[39m# if successful, exit the loop\u001b[39;00m\n\u001b[0;32m   2041\u001b[0m \u001b[39melse\u001b[39;00m:\n",
      "\u001b[1;31mArgumentError\u001b[0m: argument -f/--failfast: ignored explicit argument 'c:\\\\Users\\\\24075\\\\AppData\\\\Roaming\\\\jupyter\\\\runtime\\\\kernel-v2-24180xDpjCORZs8wi.json'",
      "\nDuring handling of the above exception, another exception occurred:\n",
      "\u001b[1;31mSystemExit\u001b[0m                                Traceback (most recent call last)",
      "    \u001b[1;31m[... skipping hidden 1 frame]\u001b[0m\n",
      "\u001b[1;32mf:\\Study\\Code\\Monthlyaway\\python-tutorial\\L10-Brief Tour of the Standard Library.ipynb Cell 30\u001b[0m line \u001b[0;36m1\n\u001b[0;32m     <a href='vscode-notebook-cell:/f%3A/Study/Code/Monthlyaway/python-tutorial/L10-Brief%20Tour%20of%20the%20Standard%20Library.ipynb#X40sZmlsZQ%3D%3D?line=10'>11</a>\u001b[0m             average(\u001b[39m20\u001b[39m, \u001b[39m30\u001b[39m, \u001b[39m70\u001b[39m)\n\u001b[1;32m---> <a href='vscode-notebook-cell:/f%3A/Study/Code/Monthlyaway/python-tutorial/L10-Brief%20Tour%20of%20the%20Standard%20Library.ipynb#X40sZmlsZQ%3D%3D?line=12'>13</a>\u001b[0m unittest\u001b[39m.\u001b[39mmain()\n",
      "File \u001b[1;32md:\\Software\\anaconda3\\Lib\\unittest\\main.py:101\u001b[0m, in \u001b[0;36mTestProgram.__init__\u001b[1;34m(self, module, defaultTest, argv, testRunner, testLoader, exit, verbosity, failfast, catchbreak, buffer, warnings, tb_locals)\u001b[0m\n\u001b[0;32m    100\u001b[0m \u001b[39mself\u001b[39m\u001b[39m.\u001b[39mprogName \u001b[39m=\u001b[39m os\u001b[39m.\u001b[39mpath\u001b[39m.\u001b[39mbasename(argv[\u001b[39m0\u001b[39m])\n\u001b[1;32m--> 101\u001b[0m \u001b[39mself\u001b[39m\u001b[39m.\u001b[39mparseArgs(argv)\n\u001b[0;32m    102\u001b[0m \u001b[39mself\u001b[39m\u001b[39m.\u001b[39mrunTests()\n",
      "File \u001b[1;32md:\\Software\\anaconda3\\Lib\\unittest\\main.py:136\u001b[0m, in \u001b[0;36mTestProgram.parseArgs\u001b[1;34m(self, argv)\u001b[0m\n\u001b[0;32m    135\u001b[0m \u001b[39melse\u001b[39;00m:\n\u001b[1;32m--> 136\u001b[0m     \u001b[39mself\u001b[39m\u001b[39m.\u001b[39m_main_parser\u001b[39m.\u001b[39mparse_args(argv[\u001b[39m1\u001b[39m:], \u001b[39mself\u001b[39m)\n\u001b[0;32m    138\u001b[0m \u001b[39mif\u001b[39;00m \u001b[39mself\u001b[39m\u001b[39m.\u001b[39mtests:\n",
      "File \u001b[1;32md:\\Software\\anaconda3\\Lib\\argparse.py:1869\u001b[0m, in \u001b[0;36mArgumentParser.parse_args\u001b[1;34m(self, args, namespace)\u001b[0m\n\u001b[0;32m   1868\u001b[0m \u001b[39mdef\u001b[39;00m \u001b[39mparse_args\u001b[39m(\u001b[39mself\u001b[39m, args\u001b[39m=\u001b[39m\u001b[39mNone\u001b[39;00m, namespace\u001b[39m=\u001b[39m\u001b[39mNone\u001b[39;00m):\n\u001b[1;32m-> 1869\u001b[0m     args, argv \u001b[39m=\u001b[39m \u001b[39mself\u001b[39m\u001b[39m.\u001b[39mparse_known_args(args, namespace)\n\u001b[0;32m   1870\u001b[0m     \u001b[39mif\u001b[39;00m argv:\n",
      "File \u001b[1;32md:\\Software\\anaconda3\\Lib\\argparse.py:1904\u001b[0m, in \u001b[0;36mArgumentParser.parse_known_args\u001b[1;34m(self, args, namespace)\u001b[0m\n\u001b[0;32m   1903\u001b[0m     \u001b[39mexcept\u001b[39;00m ArgumentError \u001b[39mas\u001b[39;00m err:\n\u001b[1;32m-> 1904\u001b[0m         \u001b[39mself\u001b[39m\u001b[39m.\u001b[39merror(\u001b[39mstr\u001b[39m(err))\n\u001b[0;32m   1905\u001b[0m \u001b[39melse\u001b[39;00m:\n",
      "File \u001b[1;32md:\\Software\\anaconda3\\Lib\\argparse.py:2628\u001b[0m, in \u001b[0;36mArgumentParser.error\u001b[1;34m(self, message)\u001b[0m\n\u001b[0;32m   2627\u001b[0m args \u001b[39m=\u001b[39m {\u001b[39m'\u001b[39m\u001b[39mprog\u001b[39m\u001b[39m'\u001b[39m: \u001b[39mself\u001b[39m\u001b[39m.\u001b[39mprog, \u001b[39m'\u001b[39m\u001b[39mmessage\u001b[39m\u001b[39m'\u001b[39m: message}\n\u001b[1;32m-> 2628\u001b[0m \u001b[39mself\u001b[39m\u001b[39m.\u001b[39mexit(\u001b[39m2\u001b[39m, _(\u001b[39m'\u001b[39m\u001b[39m%(prog)s\u001b[39;00m\u001b[39m: error: \u001b[39m\u001b[39m%(message)s\u001b[39;00m\u001b[39m\\n\u001b[39;00m\u001b[39m'\u001b[39m) \u001b[39m%\u001b[39m args)\n",
      "File \u001b[1;32md:\\Software\\anaconda3\\Lib\\argparse.py:2615\u001b[0m, in \u001b[0;36mArgumentParser.exit\u001b[1;34m(self, status, message)\u001b[0m\n\u001b[0;32m   2614\u001b[0m     \u001b[39mself\u001b[39m\u001b[39m.\u001b[39m_print_message(message, _sys\u001b[39m.\u001b[39mstderr)\n\u001b[1;32m-> 2615\u001b[0m _sys\u001b[39m.\u001b[39mexit(status)\n",
      "\u001b[1;31mSystemExit\u001b[0m: 2",
      "\nDuring handling of the above exception, another exception occurred:\n",
      "\u001b[1;31mAttributeError\u001b[0m                            Traceback (most recent call last)",
      "    \u001b[1;31m[... skipping hidden 1 frame]\u001b[0m\n",
      "File \u001b[1;32md:\\Software\\anaconda3\\Lib\\site-packages\\IPython\\core\\interactiveshell.py:2092\u001b[0m, in \u001b[0;36mInteractiveShell.showtraceback\u001b[1;34m(self, exc_tuple, filename, tb_offset, exception_only, running_compiled_code)\u001b[0m\n\u001b[0;32m   2089\u001b[0m \u001b[39mif\u001b[39;00m exception_only:\n\u001b[0;32m   2090\u001b[0m     stb \u001b[39m=\u001b[39m [\u001b[39m'\u001b[39m\u001b[39mAn exception has occurred, use \u001b[39m\u001b[39m%\u001b[39m\u001b[39mtb to see \u001b[39m\u001b[39m'\u001b[39m\n\u001b[0;32m   2091\u001b[0m            \u001b[39m'\u001b[39m\u001b[39mthe full traceback.\u001b[39m\u001b[39m\\n\u001b[39;00m\u001b[39m'\u001b[39m]\n\u001b[1;32m-> 2092\u001b[0m     stb\u001b[39m.\u001b[39mextend(\u001b[39mself\u001b[39m\u001b[39m.\u001b[39mInteractiveTB\u001b[39m.\u001b[39mget_exception_only(etype,\n\u001b[0;32m   2093\u001b[0m                                                      value))\n\u001b[0;32m   2094\u001b[0m \u001b[39melse\u001b[39;00m:\n\u001b[0;32m   2095\u001b[0m     \u001b[39mtry\u001b[39;00m:\n\u001b[0;32m   2096\u001b[0m         \u001b[39m# Exception classes can customise their traceback - we\u001b[39;00m\n\u001b[0;32m   2097\u001b[0m         \u001b[39m# use this in IPython.parallel for exceptions occurring\u001b[39;00m\n\u001b[0;32m   2098\u001b[0m         \u001b[39m# in the engines. This should return a list of strings.\u001b[39;00m\n",
      "File \u001b[1;32md:\\Software\\anaconda3\\Lib\\site-packages\\IPython\\core\\ultratb.py:644\u001b[0m, in \u001b[0;36mListTB.get_exception_only\u001b[1;34m(self, etype, value)\u001b[0m\n\u001b[0;32m    636\u001b[0m \u001b[39mdef\u001b[39;00m \u001b[39mget_exception_only\u001b[39m(\u001b[39mself\u001b[39m, etype, value):\n\u001b[0;32m    637\u001b[0m \u001b[39m    \u001b[39m\u001b[39m\"\"\"Only print the exception type and message, without a traceback.\u001b[39;00m\n\u001b[0;32m    638\u001b[0m \n\u001b[0;32m    639\u001b[0m \u001b[39m    Parameters\u001b[39;00m\n\u001b[1;32m   (...)\u001b[0m\n\u001b[0;32m    642\u001b[0m \u001b[39m    value : exception value\u001b[39;00m\n\u001b[0;32m    643\u001b[0m \u001b[39m    \"\"\"\u001b[39;00m\n\u001b[1;32m--> 644\u001b[0m     \u001b[39mreturn\u001b[39;00m ListTB\u001b[39m.\u001b[39mstructured_traceback(\u001b[39mself\u001b[39m, etype, value)\n",
      "File \u001b[1;32md:\\Software\\anaconda3\\Lib\\site-packages\\IPython\\core\\ultratb.py:511\u001b[0m, in \u001b[0;36mListTB.structured_traceback\u001b[1;34m(self, etype, evalue, etb, tb_offset, context)\u001b[0m\n\u001b[0;32m    508\u001b[0m     chained_exc_ids\u001b[39m.\u001b[39madd(\u001b[39mid\u001b[39m(exception[\u001b[39m1\u001b[39m]))\n\u001b[0;32m    509\u001b[0m     chained_exceptions_tb_offset \u001b[39m=\u001b[39m \u001b[39m0\u001b[39m\n\u001b[0;32m    510\u001b[0m     out_list \u001b[39m=\u001b[39m (\n\u001b[1;32m--> 511\u001b[0m         \u001b[39mself\u001b[39m\u001b[39m.\u001b[39mstructured_traceback(\n\u001b[0;32m    512\u001b[0m             etype, evalue, (etb, chained_exc_ids),\n\u001b[0;32m    513\u001b[0m             chained_exceptions_tb_offset, context)\n\u001b[0;32m    514\u001b[0m         \u001b[39m+\u001b[39m chained_exception_message\n\u001b[0;32m    515\u001b[0m         \u001b[39m+\u001b[39m out_list)\n\u001b[0;32m    517\u001b[0m \u001b[39mreturn\u001b[39;00m out_list\n",
      "File \u001b[1;32md:\\Software\\anaconda3\\Lib\\site-packages\\IPython\\core\\ultratb.py:1310\u001b[0m, in \u001b[0;36mAutoFormattedTB.structured_traceback\u001b[1;34m(self, etype, value, tb, tb_offset, number_of_lines_of_context)\u001b[0m\n\u001b[0;32m   1308\u001b[0m \u001b[39melse\u001b[39;00m:\n\u001b[0;32m   1309\u001b[0m     \u001b[39mself\u001b[39m\u001b[39m.\u001b[39mtb \u001b[39m=\u001b[39m tb\n\u001b[1;32m-> 1310\u001b[0m \u001b[39mreturn\u001b[39;00m FormattedTB\u001b[39m.\u001b[39mstructured_traceback(\n\u001b[0;32m   1311\u001b[0m     \u001b[39mself\u001b[39m, etype, value, tb, tb_offset, number_of_lines_of_context)\n",
      "File \u001b[1;32md:\\Software\\anaconda3\\Lib\\site-packages\\IPython\\core\\ultratb.py:1199\u001b[0m, in \u001b[0;36mFormattedTB.structured_traceback\u001b[1;34m(self, etype, value, tb, tb_offset, number_of_lines_of_context)\u001b[0m\n\u001b[0;32m   1196\u001b[0m mode \u001b[39m=\u001b[39m \u001b[39mself\u001b[39m\u001b[39m.\u001b[39mmode\n\u001b[0;32m   1197\u001b[0m \u001b[39mif\u001b[39;00m mode \u001b[39min\u001b[39;00m \u001b[39mself\u001b[39m\u001b[39m.\u001b[39mverbose_modes:\n\u001b[0;32m   1198\u001b[0m     \u001b[39m# Verbose modes need a full traceback\u001b[39;00m\n\u001b[1;32m-> 1199\u001b[0m     \u001b[39mreturn\u001b[39;00m VerboseTB\u001b[39m.\u001b[39mstructured_traceback(\n\u001b[0;32m   1200\u001b[0m         \u001b[39mself\u001b[39m, etype, value, tb, tb_offset, number_of_lines_of_context\n\u001b[0;32m   1201\u001b[0m     )\n\u001b[0;32m   1202\u001b[0m \u001b[39melif\u001b[39;00m mode \u001b[39m==\u001b[39m \u001b[39m'\u001b[39m\u001b[39mMinimal\u001b[39m\u001b[39m'\u001b[39m:\n\u001b[0;32m   1203\u001b[0m     \u001b[39mreturn\u001b[39;00m ListTB\u001b[39m.\u001b[39mget_exception_only(\u001b[39mself\u001b[39m, etype, value)\n",
      "File \u001b[1;32md:\\Software\\anaconda3\\Lib\\site-packages\\IPython\\core\\ultratb.py:1052\u001b[0m, in \u001b[0;36mVerboseTB.structured_traceback\u001b[1;34m(self, etype, evalue, etb, tb_offset, number_of_lines_of_context)\u001b[0m\n\u001b[0;32m   1043\u001b[0m \u001b[39mdef\u001b[39;00m \u001b[39mstructured_traceback\u001b[39m(\n\u001b[0;32m   1044\u001b[0m     \u001b[39mself\u001b[39m,\n\u001b[0;32m   1045\u001b[0m     etype: \u001b[39mtype\u001b[39m,\n\u001b[1;32m   (...)\u001b[0m\n\u001b[0;32m   1049\u001b[0m     number_of_lines_of_context: \u001b[39mint\u001b[39m \u001b[39m=\u001b[39m \u001b[39m5\u001b[39m,\n\u001b[0;32m   1050\u001b[0m ):\n\u001b[0;32m   1051\u001b[0m \u001b[39m    \u001b[39m\u001b[39m\"\"\"Return a nice text document describing the traceback.\"\"\"\u001b[39;00m\n\u001b[1;32m-> 1052\u001b[0m     formatted_exception \u001b[39m=\u001b[39m \u001b[39mself\u001b[39m\u001b[39m.\u001b[39mformat_exception_as_a_whole(etype, evalue, etb, number_of_lines_of_context,\n\u001b[0;32m   1053\u001b[0m                                                            tb_offset)\n\u001b[0;32m   1055\u001b[0m     colors \u001b[39m=\u001b[39m \u001b[39mself\u001b[39m\u001b[39m.\u001b[39mColors  \u001b[39m# just a shorthand + quicker name lookup\u001b[39;00m\n\u001b[0;32m   1056\u001b[0m     colorsnormal \u001b[39m=\u001b[39m colors\u001b[39m.\u001b[39mNormal  \u001b[39m# used a lot\u001b[39;00m\n",
      "File \u001b[1;32md:\\Software\\anaconda3\\Lib\\site-packages\\IPython\\core\\ultratb.py:953\u001b[0m, in \u001b[0;36mVerboseTB.format_exception_as_a_whole\u001b[1;34m(self, etype, evalue, etb, number_of_lines_of_context, tb_offset)\u001b[0m\n\u001b[0;32m    950\u001b[0m \u001b[39massert\u001b[39;00m \u001b[39misinstance\u001b[39m(tb_offset, \u001b[39mint\u001b[39m)\n\u001b[0;32m    951\u001b[0m head \u001b[39m=\u001b[39m \u001b[39mself\u001b[39m\u001b[39m.\u001b[39mprepare_header(etype, \u001b[39mself\u001b[39m\u001b[39m.\u001b[39mlong_header)\n\u001b[0;32m    952\u001b[0m records \u001b[39m=\u001b[39m (\n\u001b[1;32m--> 953\u001b[0m     \u001b[39mself\u001b[39m\u001b[39m.\u001b[39mget_records(etb, number_of_lines_of_context, tb_offset) \u001b[39mif\u001b[39;00m etb \u001b[39melse\u001b[39;00m []\n\u001b[0;32m    954\u001b[0m )\n\u001b[0;32m    956\u001b[0m frames \u001b[39m=\u001b[39m []\n\u001b[0;32m    957\u001b[0m skipped \u001b[39m=\u001b[39m \u001b[39m0\u001b[39m\n",
      "File \u001b[1;32md:\\Software\\anaconda3\\Lib\\site-packages\\IPython\\core\\ultratb.py:1021\u001b[0m, in \u001b[0;36mVerboseTB.get_records\u001b[1;34m(self, etb, number_of_lines_of_context, tb_offset)\u001b[0m\n\u001b[0;32m   1019\u001b[0m \u001b[39mwhile\u001b[39;00m cf \u001b[39mis\u001b[39;00m \u001b[39mnot\u001b[39;00m \u001b[39mNone\u001b[39;00m:\n\u001b[0;32m   1020\u001b[0m     \u001b[39mtry\u001b[39;00m:\n\u001b[1;32m-> 1021\u001b[0m         source_file \u001b[39m=\u001b[39m inspect\u001b[39m.\u001b[39mgetsourcefile(etb\u001b[39m.\u001b[39mtb_frame)\n\u001b[0;32m   1022\u001b[0m         lines, first \u001b[39m=\u001b[39m inspect\u001b[39m.\u001b[39mgetsourcelines(etb\u001b[39m.\u001b[39mtb_frame)\n\u001b[0;32m   1023\u001b[0m     \u001b[39mexcept\u001b[39;00m \u001b[39mOSError\u001b[39;00m:\n",
      "\u001b[1;31mAttributeError\u001b[0m: 'tuple' object has no attribute 'tb_frame'"
     ]
    }
   ],
   "source": []
  },
  {
   "cell_type": "code",
   "execution_count": null,
   "metadata": {},
   "outputs": [],
   "source": []
  },
  {
   "cell_type": "code",
   "execution_count": null,
   "metadata": {},
   "outputs": [],
   "source": []
  },
  {
   "cell_type": "code",
   "execution_count": null,
   "metadata": {},
   "outputs": [],
   "source": []
  },
  {
   "cell_type": "code",
   "execution_count": null,
   "metadata": {},
   "outputs": [],
   "source": []
  },
  {
   "cell_type": "code",
   "execution_count": null,
   "metadata": {},
   "outputs": [],
   "source": []
  },
  {
   "cell_type": "code",
   "execution_count": null,
   "metadata": {},
   "outputs": [],
   "source": []
  }
 ],
 "metadata": {
  "kernelspec": {
   "display_name": "base",
   "language": "python",
   "name": "python3"
  },
  "language_info": {
   "codemirror_mode": {
    "name": "ipython",
    "version": 3
   },
   "file_extension": ".py",
   "mimetype": "text/x-python",
   "name": "python",
   "nbconvert_exporter": "python",
   "pygments_lexer": "ipython3",
   "version": "3.11.3"
  },
  "orig_nbformat": 4
 },
 "nbformat": 4,
 "nbformat_minor": 2
}
